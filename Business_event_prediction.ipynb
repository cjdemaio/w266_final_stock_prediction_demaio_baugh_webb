{
 "cells": [
  {
   "cell_type": "markdown",
   "metadata": {
    "id": "z1DjqRc9j4Ox"
   },
   "source": [
    "#Quick Check that business event prediction will run on a Sample"
   ]
  },
  {
   "cell_type": "code",
   "execution_count": 2,
   "metadata": {
    "executionInfo": {
     "elapsed": 187,
     "status": "ok",
     "timestamp": 1733679974018,
     "user": {
      "displayName": "Rebecca Baugh",
      "userId": "13555504730727121808"
     },
     "user_tz": 480
    },
    "id": "a4codkl3jzN0"
   },
   "outputs": [
    {
     "name": "stderr",
     "output_type": "stream",
     "text": [
      "c:\\Users\\Chris\\anaconda3\\envs\\p310\\lib\\site-packages\\tqdm\\auto.py:21: TqdmWarning: IProgress not found. Please update jupyter and ipywidgets. See https://ipywidgets.readthedocs.io/en/stable/user_install.html\n",
      "  from .autonotebook import tqdm as notebook_tqdm\n"
     ]
    }
   ],
   "source": [
    "#imports\n",
    "\n",
    "# to load my data\n",
    "#from google.colab import drive\n",
    "import pandas as pd\n",
    "import numpy as np\n",
    "\n",
    "# to run the models\n",
    "from transformers import AutoTokenizer, AutoModelForSequenceClassification\n",
    "import torch"
   ]
  },
  {
   "cell_type": "markdown",
   "metadata": {
    "id": "EfXlVFiq3vVd"
   },
   "source": [
    "## Load Data"
   ]
  },
  {
   "cell_type": "code",
   "execution_count": 21,
   "metadata": {
    "colab": {
     "base_uri": "https://localhost:8080/"
    },
    "executionInfo": {
     "elapsed": 3551,
     "status": "ok",
     "timestamp": 1733680244379,
     "user": {
      "displayName": "Rebecca Baugh",
      "userId": "13555504730727121808"
     },
     "user_tz": 480
    },
    "id": "uvWzsvk1k_jG",
    "outputId": "3a1d3953-30f5-48f4-85d2-8f5e2c94e7a9"
   },
   "outputs": [
    {
     "name": "stdout",
     "output_type": "stream",
     "text": [
      "Mounted at /content/drive\n"
     ]
    }
   ],
   "source": [
    "# mount my google drive\n",
    "drive.mount('/content/drive')"
   ]
  },
  {
   "cell_type": "code",
   "execution_count": 4,
   "metadata": {
    "colab": {
     "base_uri": "https://localhost:8080/"
    },
    "executionInfo": {
     "elapsed": 39605,
     "status": "ok",
     "timestamp": 1733680014379,
     "user": {
      "displayName": "Rebecca Baugh",
      "userId": "13555504730727121808"
     },
     "user_tz": 480
    },
    "id": "MCqK8egVk1Hy",
    "outputId": "058b0989-2eee-41ed-e2bd-803777dcbf5f"
   },
   "outputs": [
    {
     "name": "stderr",
     "output_type": "stream",
     "text": [
      "C:\\Users\\Chris\\AppData\\Local\\Temp\\ipykernel_20336\\2366056394.py:4: DtypeWarning: Columns (6,8,9,10,11,12) have mixed types. Specify dtype option on import or set low_memory=False.\n",
      "  df_sp100 = pd.read_csv('sp100_news_2018_2023.csv')\n"
     ]
    }
   ],
   "source": [
    "# load csv files of S&P 100 files\n",
    "file_path_sp100 = '/content/drive/MyDrive/DATASCI_266_NLP/sp100_news_2018_2023.csv'\n",
    "\n",
    "df_sp100 = pd.read_csv('sp100_news_2018_2023.csv')"
   ]
  },
  {
   "cell_type": "code",
   "execution_count": 5,
   "metadata": {
    "colab": {
     "base_uri": "https://localhost:8080/",
     "height": 608
    },
    "executionInfo": {
     "elapsed": 8,
     "status": "ok",
     "timestamp": 1733680014380,
     "user": {
      "displayName": "Rebecca Baugh",
      "userId": "13555504730727121808"
     },
     "user_tz": 480
    },
    "id": "Sy8cT8PHlKre",
    "outputId": "0daef873-89fe-4fdb-f2bf-d644e023940e"
   },
   "outputs": [
    {
     "data": {
      "text/html": [
       "<div>\n",
       "<style scoped>\n",
       "    .dataframe tbody tr th:only-of-type {\n",
       "        vertical-align: middle;\n",
       "    }\n",
       "\n",
       "    .dataframe tbody tr th {\n",
       "        vertical-align: top;\n",
       "    }\n",
       "\n",
       "    .dataframe thead th {\n",
       "        text-align: right;\n",
       "    }\n",
       "</style>\n",
       "<table border=\"1\" class=\"dataframe\">\n",
       "  <thead>\n",
       "    <tr style=\"text-align: right;\">\n",
       "      <th></th>\n",
       "      <th>Unnamed: 0.1</th>\n",
       "      <th>Unnamed: 0</th>\n",
       "      <th>Date</th>\n",
       "      <th>Article_title</th>\n",
       "      <th>Stock_symbol</th>\n",
       "      <th>Url</th>\n",
       "      <th>Publisher</th>\n",
       "      <th>Author</th>\n",
       "      <th>Article</th>\n",
       "      <th>Lsa_summary</th>\n",
       "      <th>Luhn_summary</th>\n",
       "      <th>Textrank_summary</th>\n",
       "      <th>Lexrank_summary</th>\n",
       "    </tr>\n",
       "  </thead>\n",
       "  <tbody>\n",
       "    <tr>\n",
       "      <th>0</th>\n",
       "      <td>12025</td>\n",
       "      <td>12025.0</td>\n",
       "      <td>2023-12-16 22:00:00</td>\n",
       "      <td>My 6 Largest Portfolio Holdings Heading Into 2...</td>\n",
       "      <td>AAPL</td>\n",
       "      <td>https://www.nasdaq.com/articles/my-6-largest-p...</td>\n",
       "      <td>NaN</td>\n",
       "      <td>NaN</td>\n",
       "      <td>After an absolute disaster of a year in 2022, ...</td>\n",
       "      <td>3: Apple There's little question that Apple (N...</td>\n",
       "      <td>3: Apple There's little question that Apple (N...</td>\n",
       "      <td>3: Apple There's little question that Apple (N...</td>\n",
       "      <td>3: Apple There's little question that Apple (N...</td>\n",
       "    </tr>\n",
       "    <tr>\n",
       "      <th>1</th>\n",
       "      <td>12026</td>\n",
       "      <td>12026.0</td>\n",
       "      <td>2023-12-16 22:00:00</td>\n",
       "      <td>Brokers Suggest Investing in Apple (AAPL): Rea...</td>\n",
       "      <td>AAPL</td>\n",
       "      <td>https://www.nasdaq.com/articles/brokers-sugges...</td>\n",
       "      <td>NaN</td>\n",
       "      <td>NaN</td>\n",
       "      <td>When deciding whether to buy, sell, or hold a ...</td>\n",
       "      <td>Let's take a look at what these Wall Street he...</td>\n",
       "      <td>Click to get this free report Apple Inc. (AAPL...</td>\n",
       "      <td>Let's take a look at what these Wall Street he...</td>\n",
       "      <td>Brokerage Recommendation Trends for AAPL Let's...</td>\n",
       "    </tr>\n",
       "    <tr>\n",
       "      <th>2</th>\n",
       "      <td>12027</td>\n",
       "      <td>12027.0</td>\n",
       "      <td>2023-12-16 21:00:00</td>\n",
       "      <td>Company News for Dec 19, 2023</td>\n",
       "      <td>AAPL</td>\n",
       "      <td>https://www.nasdaq.com/articles/company-news-f...</td>\n",
       "      <td>NaN</td>\n",
       "      <td>NaN</td>\n",
       "      <td>Shares of Apple Inc. AAPL lost 0.9% on China’s...</td>\n",
       "      <td>Shares of Apple Inc. AAPL lost 0.9% on China’s...</td>\n",
       "      <td>Click to get this free report Apple Inc. (AAPL...</td>\n",
       "      <td>Click to get this free report Apple Inc. (AAPL...</td>\n",
       "      <td>Click to get this free report Apple Inc. (AAPL...</td>\n",
       "    </tr>\n",
       "    <tr>\n",
       "      <th>3</th>\n",
       "      <td>12028</td>\n",
       "      <td>12028.0</td>\n",
       "      <td>2023-12-16 21:00:00</td>\n",
       "      <td>NVIDIA (NVDA) Up 243% YTD: Will It Carry Momen...</td>\n",
       "      <td>AAPL</td>\n",
       "      <td>https://www.nasdaq.com/articles/nvidia-nvda-up...</td>\n",
       "      <td>NaN</td>\n",
       "      <td>NaN</td>\n",
       "      <td>NVIDIA Corporation NVDA has witnessed a remark...</td>\n",
       "      <td>Other Stocks in the $1T Club Apart from NVIDIA...</td>\n",
       "      <td>Other Stocks in the $1T Club Apart from NVIDIA...</td>\n",
       "      <td>Other Stocks in the $1T Club Apart from NVIDIA...</td>\n",
       "      <td>Other Stocks in the $1T Club Apart from NVIDIA...</td>\n",
       "    </tr>\n",
       "    <tr>\n",
       "      <th>4</th>\n",
       "      <td>12029</td>\n",
       "      <td>12029.0</td>\n",
       "      <td>2023-12-16 21:00:00</td>\n",
       "      <td>Pre-Market Most Active for Dec 19, 2023 : BMY,...</td>\n",
       "      <td>AAPL</td>\n",
       "      <td>https://www.nasdaq.com/articles/pre-market-mos...</td>\n",
       "      <td>NaN</td>\n",
       "      <td>NaN</td>\n",
       "      <td>The NASDAQ 100 Pre-Market Indicator is up 10.1...</td>\n",
       "      <td>Apple Inc. (AAPL) is +0.86 at $196.75, with 1,...</td>\n",
       "      <td>Apple Inc. (AAPL) is +0.86 at $196.75, with 1,...</td>\n",
       "      <td>Apple Inc. (AAPL) is +0.86 at $196.75, with 1,...</td>\n",
       "      <td>Apple Inc. (AAPL) is +0.86 at $196.75, with 1,...</td>\n",
       "    </tr>\n",
       "  </tbody>\n",
       "</table>\n",
       "</div>"
      ],
      "text/plain": [
       "   Unnamed: 0.1  Unnamed: 0                 Date  \\\n",
       "0         12025     12025.0  2023-12-16 22:00:00   \n",
       "1         12026     12026.0  2023-12-16 22:00:00   \n",
       "2         12027     12027.0  2023-12-16 21:00:00   \n",
       "3         12028     12028.0  2023-12-16 21:00:00   \n",
       "4         12029     12029.0  2023-12-16 21:00:00   \n",
       "\n",
       "                                       Article_title Stock_symbol  \\\n",
       "0  My 6 Largest Portfolio Holdings Heading Into 2...         AAPL   \n",
       "1  Brokers Suggest Investing in Apple (AAPL): Rea...         AAPL   \n",
       "2                      Company News for Dec 19, 2023         AAPL   \n",
       "3  NVIDIA (NVDA) Up 243% YTD: Will It Carry Momen...         AAPL   \n",
       "4  Pre-Market Most Active for Dec 19, 2023 : BMY,...         AAPL   \n",
       "\n",
       "                                                 Url Publisher  Author  \\\n",
       "0  https://www.nasdaq.com/articles/my-6-largest-p...       NaN     NaN   \n",
       "1  https://www.nasdaq.com/articles/brokers-sugges...       NaN     NaN   \n",
       "2  https://www.nasdaq.com/articles/company-news-f...       NaN     NaN   \n",
       "3  https://www.nasdaq.com/articles/nvidia-nvda-up...       NaN     NaN   \n",
       "4  https://www.nasdaq.com/articles/pre-market-mos...       NaN     NaN   \n",
       "\n",
       "                                             Article  \\\n",
       "0  After an absolute disaster of a year in 2022, ...   \n",
       "1  When deciding whether to buy, sell, or hold a ...   \n",
       "2  Shares of Apple Inc. AAPL lost 0.9% on China’s...   \n",
       "3  NVIDIA Corporation NVDA has witnessed a remark...   \n",
       "4  The NASDAQ 100 Pre-Market Indicator is up 10.1...   \n",
       "\n",
       "                                         Lsa_summary  \\\n",
       "0  3: Apple There's little question that Apple (N...   \n",
       "1  Let's take a look at what these Wall Street he...   \n",
       "2  Shares of Apple Inc. AAPL lost 0.9% on China’s...   \n",
       "3  Other Stocks in the $1T Club Apart from NVIDIA...   \n",
       "4  Apple Inc. (AAPL) is +0.86 at $196.75, with 1,...   \n",
       "\n",
       "                                        Luhn_summary  \\\n",
       "0  3: Apple There's little question that Apple (N...   \n",
       "1  Click to get this free report Apple Inc. (AAPL...   \n",
       "2  Click to get this free report Apple Inc. (AAPL...   \n",
       "3  Other Stocks in the $1T Club Apart from NVIDIA...   \n",
       "4  Apple Inc. (AAPL) is +0.86 at $196.75, with 1,...   \n",
       "\n",
       "                                    Textrank_summary  \\\n",
       "0  3: Apple There's little question that Apple (N...   \n",
       "1  Let's take a look at what these Wall Street he...   \n",
       "2  Click to get this free report Apple Inc. (AAPL...   \n",
       "3  Other Stocks in the $1T Club Apart from NVIDIA...   \n",
       "4  Apple Inc. (AAPL) is +0.86 at $196.75, with 1,...   \n",
       "\n",
       "                                     Lexrank_summary  \n",
       "0  3: Apple There's little question that Apple (N...  \n",
       "1  Brokerage Recommendation Trends for AAPL Let's...  \n",
       "2  Click to get this free report Apple Inc. (AAPL...  \n",
       "3  Other Stocks in the $1T Club Apart from NVIDIA...  \n",
       "4  Apple Inc. (AAPL) is +0.86 at $196.75, with 1,...  "
      ]
     },
     "execution_count": 5,
     "metadata": {},
     "output_type": "execute_result"
    }
   ],
   "source": [
    "# check that it looks right\n",
    "df_sp100.head()"
   ]
  },
  {
   "cell_type": "code",
   "execution_count": 8,
   "metadata": {
    "executionInfo": {
     "elapsed": 125,
     "status": "ok",
     "timestamp": 1733680014501,
     "user": {
      "displayName": "Rebecca Baugh",
      "userId": "13555504730727121808"
     },
     "user_tz": 480
    },
    "id": "BhqhWThblyt6"
   },
   "outputs": [],
   "source": [
    "# create a smaller sample so you can test things quickly\n",
    "df_sp100_sample = df_sp100.sample(n=100)"
   ]
  },
  {
   "cell_type": "markdown",
   "metadata": {
    "id": "XeiOb2As3pYm"
   },
   "source": [
    "## Load & Run the model"
   ]
  },
  {
   "cell_type": "code",
   "execution_count": 6,
   "metadata": {
    "colab": {
     "base_uri": "https://localhost:8080/"
    },
    "executionInfo": {
     "elapsed": 53302,
     "status": "ok",
     "timestamp": 1733680370405,
     "user": {
      "displayName": "Rebecca Baugh",
      "userId": "13555504730727121808"
     },
     "user_tz": 480
    },
    "id": "GCSc6TMOl2a8",
    "outputId": "da1b0d03-9430-46e4-a038-0ba637aef4f2"
   },
   "outputs": [
    {
     "name": "stderr",
     "output_type": "stream",
     "text": [
      "c:\\Users\\Chris\\anaconda3\\envs\\p310\\lib\\site-packages\\huggingface_hub\\file_download.py:139: UserWarning: `huggingface_hub` cache-system uses symlinks by default to efficiently store duplicated files but your machine does not support them in C:\\Users\\Chris\\.cache\\huggingface\\hub\\models--yiyanghkust--finbert-tone. Caching files will still work but in a degraded version that might require more space on your disk. This warning can be disabled by setting the `HF_HUB_DISABLE_SYMLINKS_WARNING` environment variable. For more details, see https://huggingface.co/docs/huggingface_hub/how-to-cache#limitations.\n",
      "To support symlinks on Windows, you either need to activate Developer Mode or to run Python as an administrator. In order to activate developer mode, see this article: https://docs.microsoft.com/en-us/windows/apps/get-started/enable-your-device-for-development\n",
      "  warnings.warn(message)\n",
      "c:\\Users\\Chris\\anaconda3\\envs\\p310\\lib\\site-packages\\huggingface_hub\\file_download.py:139: UserWarning: `huggingface_hub` cache-system uses symlinks by default to efficiently store duplicated files but your machine does not support them in C:\\Users\\Chris\\.cache\\huggingface\\hub\\models--yiyanghkust--finbert-pretrain. Caching files will still work but in a degraded version that might require more space on your disk. This warning can be disabled by setting the `HF_HUB_DISABLE_SYMLINKS_WARNING` environment variable. For more details, see https://huggingface.co/docs/huggingface_hub/how-to-cache#limitations.\n",
      "To support symlinks on Windows, you either need to activate Developer Mode or to run Python as an administrator. In order to activate developer mode, see this article: https://docs.microsoft.com/en-us/windows/apps/get-started/enable-your-device-for-development\n",
      "  warnings.warn(message)\n",
      "Some weights of BertForSequenceClassification were not initialized from the model checkpoint at yiyanghkust/finbert-pretrain and are newly initialized: ['classifier.bias', 'classifier.weight']\n",
      "You should probably TRAIN this model on a down-stream task to be able to use it for predictions and inference.\n"
     ]
    },
    {
     "data": {
      "text/plain": [
       "BertForSequenceClassification(\n",
       "  (bert): BertModel(\n",
       "    (embeddings): BertEmbeddings(\n",
       "      (word_embeddings): Embedding(30873, 768, padding_idx=0)\n",
       "      (position_embeddings): Embedding(512, 768)\n",
       "      (token_type_embeddings): Embedding(2, 768)\n",
       "      (LayerNorm): LayerNorm((768,), eps=1e-12, elementwise_affine=True)\n",
       "      (dropout): Dropout(p=0.1, inplace=False)\n",
       "    )\n",
       "    (encoder): BertEncoder(\n",
       "      (layer): ModuleList(\n",
       "        (0-11): 12 x BertLayer(\n",
       "          (attention): BertAttention(\n",
       "            (self): BertSdpaSelfAttention(\n",
       "              (query): Linear(in_features=768, out_features=768, bias=True)\n",
       "              (key): Linear(in_features=768, out_features=768, bias=True)\n",
       "              (value): Linear(in_features=768, out_features=768, bias=True)\n",
       "              (dropout): Dropout(p=0.1, inplace=False)\n",
       "            )\n",
       "            (output): BertSelfOutput(\n",
       "              (dense): Linear(in_features=768, out_features=768, bias=True)\n",
       "              (LayerNorm): LayerNorm((768,), eps=1e-12, elementwise_affine=True)\n",
       "              (dropout): Dropout(p=0.1, inplace=False)\n",
       "            )\n",
       "          )\n",
       "          (intermediate): BertIntermediate(\n",
       "            (dense): Linear(in_features=768, out_features=3072, bias=True)\n",
       "            (intermediate_act_fn): GELUActivation()\n",
       "          )\n",
       "          (output): BertOutput(\n",
       "            (dense): Linear(in_features=3072, out_features=768, bias=True)\n",
       "            (LayerNorm): LayerNorm((768,), eps=1e-12, elementwise_affine=True)\n",
       "            (dropout): Dropout(p=0.1, inplace=False)\n",
       "          )\n",
       "        )\n",
       "      )\n",
       "    )\n",
       "    (pooler): BertPooler(\n",
       "      (dense): Linear(in_features=768, out_features=768, bias=True)\n",
       "      (activation): Tanh()\n",
       "    )\n",
       "  )\n",
       "  (dropout): Dropout(p=0.1, inplace=False)\n",
       "  (classifier): Linear(in_features=768, out_features=12, bias=True)\n",
       ")"
      ]
     },
     "execution_count": 6,
     "metadata": {},
     "output_type": "execute_result"
    }
   ],
   "source": [
    "# load your model and tokenizer\n",
    "# model if finetuned, tokenizer is regular FinBERT\n",
    "model = 'yiyanghkust/finbert-tone'\n",
    "tokenizer = AutoTokenizer.from_pretrained(model)\n",
    "saved_model_path = 'best_model_wstrat_3epoch.pt'\n",
    "# load the model with correct number of labels\n",
    "model = AutoModelForSequenceClassification.from_pretrained(\n",
    "    \"yiyanghkust/finbert-pretrain\",\n",
    "    num_labels=12,\n",
    "    ignore_mismatched_sizes=True\n",
    ")\n",
    "checkpoint = torch.load(saved_model_path)\n",
    "model.load_state_dict(checkpoint['model_state_dict'])\n",
    "\n",
    "# move model to gpu if available\n",
    "device = torch.device('cuda' if torch.cuda.is_available() else 'cpu')\n",
    "model.to(device)"
   ]
  },
  {
   "cell_type": "code",
   "execution_count": 10,
   "metadata": {
    "executionInfo": {
     "elapsed": 100,
     "status": "ok",
     "timestamp": 1733680447667,
     "user": {
      "displayName": "Rebecca Baugh",
      "userId": "13555504730727121808"
     },
     "user_tz": 480
    },
    "id": "jxJ1lC0QoIDz"
   },
   "outputs": [],
   "source": [
    "# predict business events\n",
    "def predict_business_events(text):\n",
    "  \"\"\"\n",
    "  Predicts the business event category for a given text using a fine-tuned model.\n",
    "\n",
    "    Args:\n",
    "        text (str): The input text for which the business event prediction is to be made.\n",
    "\n",
    "    Returns:\n",
    "        int: The predicted business event class label (integer).\n",
    "             The label corresponds to one of the pre-defined business event categories in the fine-tuned model.\n",
    "  \"\"\"\n",
    "  model.eval()\n",
    "  # ensure the text is a string\n",
    "  text = str(text)\n",
    "  \n",
    "  inputs = tokenizer(\n",
    "        text,\n",
    "        padding=True,\n",
    "        truncation=True,\n",
    "        max_length=512,\n",
    "        return_tensors=\"pt\"\n",
    "    )\n",
    "  tokens = {key: val.to(device) for key, val in inputs.items()}\n",
    "  \n",
    "  model.to(device)\n",
    "  \n",
    "  with torch.no_grad():\n",
    "    outputs = model(**tokens)\n",
    "    logits = outputs.logits\n",
    "\n",
    "    business_event = torch.argmax(logits, dim=1).item()\n",
    "    return business_event"
   ]
  },
  {
   "cell_type": "markdown",
   "metadata": {
    "id": "MYl92GdRo2PV"
   },
   "source": [
    "## Small Sample Pipeline"
   ]
  },
  {
   "cell_type": "code",
   "execution_count": 11,
   "metadata": {
    "executionInfo": {
     "elapsed": 134706,
     "status": "ok",
     "timestamp": 1733680585251,
     "user": {
      "displayName": "Rebecca Baugh",
      "userId": "13555504730727121808"
     },
     "user_tz": 480
    },
    "id": "qSx0rOk6oi4G"
   },
   "outputs": [
    {
     "name": "stderr",
     "output_type": "stream",
     "text": [
      "c:\\Users\\Chris\\anaconda3\\envs\\p310\\lib\\site-packages\\transformers\\models\\bert\\modeling_bert.py:440: UserWarning: 1Torch was not compiled with flash attention. (Triggered internally at C:\\cb\\pytorch_1000000000000\\work\\aten\\src\\ATen\\native\\transformers\\cuda\\sdp_utils.cpp:455.)\n",
      "  attn_output = torch.nn.functional.scaled_dot_product_attention(\n"
     ]
    }
   ],
   "source": [
    "# apply it to the small sample\n",
    "tokens = df_sp100_sample['Article'].apply(predict_business_events)"
   ]
  },
  {
   "cell_type": "code",
   "execution_count": 12,
   "metadata": {
    "executionInfo": {
     "elapsed": 132804,
     "status": "ok",
     "timestamp": 1733680747772,
     "user": {
      "displayName": "Rebecca Baugh",
      "userId": "13555504730727121808"
     },
     "user_tz": 480
    },
    "id": "lbYSVASeo1s3"
   },
   "outputs": [],
   "source": [
    "# predict business events\n",
    "df_sp100_sample['business_event'] = df_sp100_sample['Article'].apply(predict_business_events)"
   ]
  },
  {
   "cell_type": "code",
   "execution_count": 14,
   "metadata": {
    "colab": {
     "base_uri": "https://localhost:8080/"
    },
    "executionInfo": {
     "elapsed": 100,
     "status": "ok",
     "timestamp": 1733680911498,
     "user": {
      "displayName": "Rebecca Baugh",
      "userId": "13555504730727121808"
     },
     "user_tz": 480
    },
    "id": "zWEC6h6IqPnQ",
    "outputId": "8d22e845-9169-48c8-9fc5-b197cb5937a3"
   },
   "outputs": [
    {
     "data": {
      "text/plain": [
       "business_event\n",
       "11    98\n",
       "4      2\n",
       "Name: count, dtype: int64"
      ]
     },
     "execution_count": 14,
     "metadata": {},
     "output_type": "execute_result"
    }
   ],
   "source": [
    "# see if it worked\n",
    "df_sp100_sample['business_event'].value_counts()"
   ]
  },
  {
   "cell_type": "code",
   "execution_count": 15,
   "metadata": {},
   "outputs": [],
   "source": [
    "df_sp100['business_event'] = df_sp100['Article'].apply(predict_business_events)"
   ]
  },
  {
   "cell_type": "code",
   "execution_count": 18,
   "metadata": {},
   "outputs": [
    {
     "data": {
      "text/plain": [
       "business_event\n",
       "11    325582\n",
       "4       5481\n",
       "3        443\n",
       "1        326\n",
       "0        295\n",
       "2        294\n",
       "6        223\n",
       "10        98\n",
       "9         40\n",
       "8          6\n",
       "Name: count, dtype: int64"
      ]
     },
     "execution_count": 18,
     "metadata": {},
     "output_type": "execute_result"
    }
   ],
   "source": [
    "df_sp100['business_event'].value_counts()"
   ]
  },
  {
   "cell_type": "code",
   "execution_count": 19,
   "metadata": {},
   "outputs": [],
   "source": [
    "df_sp100.to_csv('sp100_news_2018_2023_events_added.csv')"
   ]
  }
 ],
 "metadata": {
  "colab": {
   "authorship_tag": "ABX9TyMMqk1qg24MZwes2fx8K1Ul",
   "provenance": []
  },
  "kernelspec": {
   "display_name": "p310",
   "language": "python",
   "name": "python3"
  },
  "language_info": {
   "codemirror_mode": {
    "name": "ipython",
    "version": 3
   },
   "file_extension": ".py",
   "mimetype": "text/x-python",
   "name": "python",
   "nbconvert_exporter": "python",
   "pygments_lexer": "ipython3",
   "version": "3.10.8"
  }
 },
 "nbformat": 4,
 "nbformat_minor": 0
}
