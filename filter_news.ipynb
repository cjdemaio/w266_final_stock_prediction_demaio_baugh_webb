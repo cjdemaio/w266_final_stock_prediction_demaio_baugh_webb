{
 "cells": [
  {
   "cell_type": "code",
   "execution_count": 1,
   "metadata": {},
   "outputs": [],
   "source": [
    "import numpy as np\n",
    "import pandas as pd"
   ]
  },
  {
   "cell_type": "code",
   "execution_count": 2,
   "metadata": {},
   "outputs": [
    {
     "name": "stderr",
     "output_type": "stream",
     "text": [
      "C:\\Users\\Chris\\AppData\\Local\\Temp\\ipykernel_37340\\1120846329.py:1: DtypeWarning: Columns (3,5,6,7,8,9,10,11) have mixed types. Specify dtype option on import or set low_memory=False.\n",
      "  raw_df = pd.read_csv(\"nasdaq_exteral_data.csv\")\n"
     ]
    }
   ],
   "source": [
    "raw_df = pd.read_csv(\"nasdaq_exteral_data.csv\")"
   ]
  },
  {
   "cell_type": "code",
   "execution_count": 3,
   "metadata": {},
   "outputs": [],
   "source": [
    "# Pulled Dec 2nd\n",
    "sp100_tickers = [\n",
    "    'AAPL', 'ABBV', 'ABT', 'ACN', 'ADBE', 'AIG', 'AMD', 'AMGN', 'AMT', 'AMZN',\n",
    "    'AVGO', 'AXP', 'BA', 'BAC', 'BK', 'BKNG', 'BLK', 'BMY', 'BRK.B', 'C',\n",
    "    'CAT', 'CHTR', 'CL', 'CMCSA', 'COF', 'COP', 'COST', 'CRM', 'CSCO', 'CVS',\n",
    "    'CVX', 'DE', 'DHR', 'DIS', 'DOW', 'DUK', 'EMR', 'F', 'FDX', 'GD',\n",
    "    'GE', 'GILD', 'GM', 'GOOG', 'GOOGL', 'GS', 'HD', 'HON', 'IBM', 'INTC',\n",
    "    'INTU', 'JNJ', 'JPM', 'KHC', 'KO', 'LIN', 'LLY', 'LMT', 'LOW', 'MA',\n",
    "    'MCD', 'MDLZ', 'MDT', 'MET', 'META', 'MMM', 'MO', 'MRK', 'MS', 'MSFT',\n",
    "    'NEE', 'NFLX', 'NKE', 'NVDA', 'ORCL', 'PEP', 'PFE', 'PG', 'PM', 'PYPL',\n",
    "    'QCOM', 'RTX', 'SBUX', 'SCHW', 'SO', 'SPG', 'T', 'TGT', 'TMO', 'TMUS',\n",
    "    'TSLA', 'TXN', 'UNH', 'UNP', 'UPS', 'USB', 'V', 'VZ', 'WFC', 'WMT', 'XOM'\n",
    "]\n",
    "\n",
    "# Pulled on Dec 2nd\n",
    "sp500_tech_tickers = [\n",
    "    'AAPL', 'ACN', 'ADBE', 'ADI', 'ADSK', 'AKAM', 'AMAT', 'AMD', 'ANET', 'ANSS',\n",
    "    'APH', 'AVGO', 'CDNS', 'CDW', 'CRM', 'CRWD', 'CSCO', 'CTSH', 'DELL', 'ENPH',\n",
    "    'EPAM', 'FFIV', 'FICO', 'FSLR', 'FTNT', 'GDDY', 'GEN', 'GLW', 'HPE', 'HPQ',\n",
    "    'IBM', 'INTC', 'INTU', 'IT', 'JBL', 'JNPR', 'KEYS', 'KLAC', 'LRCX', 'MCHP',\n",
    "    'MPWR', 'MSFT', 'MSI', 'MU', 'NOW', 'NTAP', 'NVDA', 'NXPI', 'ON', 'ORCL',\n",
    "    'PANW', 'PLTR', 'PTC', 'QCOM', 'QRVO', 'ROP', 'SMCI', 'SNPS', 'STX', 'SWKS',\n",
    "    'TDY', 'TEL', 'TER', 'TRMB', 'TXN', 'TYL', 'VRSN', 'WDC', 'ZBRA'\n",
    "]"
   ]
  },
  {
   "cell_type": "code",
   "execution_count": 4,
   "metadata": {},
   "outputs": [
    {
     "data": {
      "text/plain": [
       "(101, 69)"
      ]
     },
     "execution_count": 4,
     "metadata": {},
     "output_type": "execute_result"
    }
   ],
   "source": [
    "len(sp100_tickers), len(sp500_tech_tickers)"
   ]
  },
  {
   "cell_type": "code",
   "execution_count": 5,
   "metadata": {},
   "outputs": [],
   "source": [
    "raw_df['Date'] = pd.to_datetime(raw_df['Date'])\n",
    "raw_df['Date'] = raw_df['Date'].dt.tz_localize(None)"
   ]
  },
  {
   "cell_type": "code",
   "execution_count": 6,
   "metadata": {},
   "outputs": [],
   "source": [
    "reduced_df_100_2018_2023 = raw_df[(raw_df['Stock_symbol'].isin(sp100_tickers)) &\n",
    "         ((raw_df['Date'] >= '2018-01-01') & (raw_df['Date'] <= '2023-12-31'))]"
   ]
  },
  {
   "cell_type": "code",
   "execution_count": 7,
   "metadata": {},
   "outputs": [],
   "source": [
    "reduced_df_tech_2018_2023 = raw_df[(raw_df['Stock_symbol'].isin(sp500_tech_tickers)) &\n",
    "         ((raw_df['Date'] >= '2018-01-01') & (raw_df['Date'] <= '2023-12-31'))]"
   ]
  },
  {
   "cell_type": "code",
   "execution_count": null,
   "metadata": {},
   "outputs": [],
   "source": [
    "reduced_df_100_2018_2023.to_csv('sp100_news_2018_2023.csv')"
   ]
  },
  {
   "cell_type": "code",
   "execution_count": 10,
   "metadata": {},
   "outputs": [],
   "source": [
    "reduced_df_tech_2018_2023.to_csv('sptech_news_2018_2023.csv')"
   ]
  },
  {
   "cell_type": "code",
   "execution_count": null,
   "metadata": {},
   "outputs": [],
   "source": [
    "reduced_df_100_2021_2023 = raw_df[(raw_df['Stock_symbol'].isin(sp100_tickers)) &\n",
    "         ((raw_df['Date'] >= '2021-01-01') & (raw_df['Date'] <= '2023-12-31'))]\n",
    "\n",
    "reduced_df_tech_2021_2023 = raw_df[(raw_df['Stock_symbol'].isin(sp500_tech_tickers)) &\n",
    "         ((raw_df['Date'] >= '2021-01-01') & (raw_df['Date'] <= '2023-12-31'))]"
   ]
  },
  {
   "cell_type": "code",
   "execution_count": 15,
   "metadata": {},
   "outputs": [],
   "source": [
    "reduced_df_100_2021_2023.to_excel('sp100stocksnews-2021-2023.xlsx')"
   ]
  },
  {
   "cell_type": "code",
   "execution_count": 16,
   "metadata": {},
   "outputs": [],
   "source": [
    "reduced_df_tech_2021_2023.to_excel('sptechstocksnews-2021-2023.xlsx')"
   ]
  }
 ],
 "metadata": {
  "kernelspec": {
   "display_name": "py_main",
   "language": "python",
   "name": "python3"
  },
  "language_info": {
   "codemirror_mode": {
    "name": "ipython",
    "version": 3
   },
   "file_extension": ".py",
   "mimetype": "text/x-python",
   "name": "python",
   "nbconvert_exporter": "python",
   "pygments_lexer": "ipython3",
   "version": "3.12.3"
  }
 },
 "nbformat": 4,
 "nbformat_minor": 2
}
