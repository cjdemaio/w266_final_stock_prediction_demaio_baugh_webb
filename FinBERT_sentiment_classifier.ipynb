{
 "cells": [
  {
   "cell_type": "code",
   "execution_count": 1,
   "metadata": {},
   "outputs": [
    {
     "name": "stderr",
     "output_type": "stream",
     "text": [
      "c:\\Users\\Chris\\anaconda3\\envs\\p310\\lib\\site-packages\\tqdm\\auto.py:21: TqdmWarning: IProgress not found. Please update jupyter and ipywidgets. See https://ipywidgets.readthedocs.io/en/stable/user_install.html\n",
      "  from .autonotebook import tqdm as notebook_tqdm\n"
     ]
    }
   ],
   "source": [
    "from transformers import AutoTokenizer, AutoModelForSequenceClassification, pipeline\n",
    "import torch\n",
    "import pandas as pd\n",
    "from datasets import Dataset"
   ]
  },
  {
   "cell_type": "code",
   "execution_count": 2,
   "metadata": {},
   "outputs": [
    {
     "name": "stdout",
     "output_type": "stream",
     "text": [
      "PyTorch Version: 2.3.1\n",
      "CUDA Version: 12.1\n",
      "CUDA Available: True\n"
     ]
    }
   ],
   "source": [
    "print(\"PyTorch Version:\", torch.__version__)\n",
    "print(\"CUDA Version:\", torch.version.cuda)\n",
    "print(\"CUDA Available:\", torch.cuda.is_available())"
   ]
  },
  {
   "cell_type": "code",
   "execution_count": 3,
   "metadata": {},
   "outputs": [],
   "source": [
    "# Initialize model\n",
    "model_name = \"ProsusAI/finbert\"\n",
    "tokenizer = AutoTokenizer.from_pretrained(model_name)\n",
    "model = AutoModelForSequenceClassification.from_pretrained(model_name)"
   ]
  },
  {
   "cell_type": "code",
   "execution_count": 4,
   "metadata": {},
   "outputs": [],
   "source": [
    "# Single article to test\n",
    "article_text = \"\"\"When deciding whether to buy, sell, or hold a stock, investors often rely on analyst recommendations. Media reports about rating changes by these brokerage-firm-employed (or sell-side) analysts often influence a stock's price, but are they really important? \n",
    "Lets take a look at what these Wall Street heavyweights have to say about Apple (AAPL) before we discuss the reliability of brokerage recommendations and how to use them to your advantage.\n",
    "Apple currently has an average brokerage recommendation (ABR) of 1.71, on a scale of 1 to 5 (Strong Buy to Strong Sell), calculated based on the actual recommendations (Buy, Hold, Sell, etc.) made by 29 brokerage firms. An ABR of 1.71 approximates between Strong Buy and Buy.\n",
    "Of the 29 recommendations that derive the current ABR, 17 are Strong Buy and three are Buy. Strong Buy and Buy respectively account for 58.6% and 10.3% of all recommendations.\n",
    "Brokerage Recommendation Trends for AAPL\n",
    "\n",
    "\n",
    "Check price target & stock forecast for Apple here>>>\n",
    "\n",
    "The ABR suggests buying Apple, but making an investment decision solely on the basis of this information might not be a good idea. According to several studies, brokerage recommendations have little to no success guiding investors to choose stocks with the most potential for price appreciation.\n",
    "Are you wondering why? The vested interest of brokerage firms in a stock they cover often results in a strong positive bias of their analysts in rating it. Our research shows that for every \"Strong Sell\" recommendation, brokerage firms assign five \"Strong Buy\" recommendations.\n",
    "This means that the interests of these institutions are not always aligned with those of retail investors, giving little insight into the direction of a stock's future price movement. It would therefore be best to use this information to validate your own analysis or a tool that has proven to be highly effective at predicting stock price movements.\n",
    "With an impressive externally audited track record, our proprietary stock rating tool, the Zacks Rank, which classifies stocks into five groups, ranging from Zacks Rank #1 (Strong Buy) to Zacks Rank #5 (Strong Sell), is a reliable indicator of a stock's near -term price performance. So, validating the Zacks Rank with ABR could go a long way in making a profitable investment decision.\n",
    "ABR Should Not Be Confused With Zacks Rank\n",
    "Although both Zacks Rank and ABR are displayed in a range of 1-5, they are different measures altogether.\n",
    "The ABR is calculated solely based on brokerage recommendations and is typically displayed with decimals (example: 1.28). In contrast, the Zacks Rank is a quantitative model allowing investors to harness the power of earnings estimate revisions. It is displayed in whole numbers -- 1 to 5.\n",
    "Analysts employed by brokerage firms have been and continue to be overly optimistic with their recommendations. Since the ratings issued by these analysts are more favorable than their research would support because of the vested interest of their employers, they mislead investors far more often than they guide.\n",
    "On the other hand, earnings estimate revisions are at the core of the Zacks Rank. And empirical research shows a strong correlation between trends in earnings estimate revisions and near-term stock price movements.\n",
    "In addition, the different Zacks Rank grades are applied proportionately to all stocks for which brokerage analysts provide current-year earnings estimates. In other words, this tool always maintains a balance among its five ranks.\n",
    "There is also a key difference between the ABR and Zacks Rank when it comes to freshness. When you look at the ABR, it may not be up-to-date. Nonetheless, since brokerage analysts constantly revise their earnings estimates to reflect changing business trends, and their actions get reflected in the Zacks Rank quickly enough, it is always timely in predicting future stock prices.\n",
    "Is AAPL a Good Investment?\n",
    "In terms of earnings estimate revisions for Apple, the Zacks Consensus Estimate for the current year has remained unchanged over the past month at $6.56.\n",
    "Analysts' steady views regarding the company's earnings prospects, as indicated by an unchanged consensus estimate, could be a legitimate reason for the stock to perform in line with the broader market in the near term.\n",
    "The size of the recent change in the consensus estimate, along with three other factors related to earnings estimates, has resulted in a Zacks Rank #3 (Hold) for Apple. You can see the complete list of today's Zacks Rank #1 (Strong Buy) stocks here >>>>\n",
    "It may therefore be prudent to be a little cautious with the Buy-equivalent ABR for Apple.\n",
    "Zacks Reveals ChatGPT \"Sleeper\" Stock\n",
    "One little-known company is at the heart of an especially brilliant Artificial Intelligence sector. By 2030, the AI industry is predicted to have an internet and iPhone-scale economic impact of $15.7 Trillion.\n",
    "As a service to readers, Zacks is providing a bonus report that names and explains this explosive growth stock and 4 other \"must buys.\" Plus more.\n",
    "Download Free ChatGPT Stock Report Right Now >>\n",
    "Want the latest recommendations from Zacks Investment Research? Today, you can download 7 Best Stocks for the Next 30 Days. Click to get this free report\n",
    "Apple Inc. (AAPL) : Free Stock Analysis Report\n",
    "To read this article on Zacks.com click here.\n",
    "Zacks Investment Research\n",
    "The views and opinions expressed herein are the views and opinions of the author and do not necessarily reflect those of Nasdaq, Inc.\"\"\""
   ]
  },
  {
   "cell_type": "code",
   "execution_count": 5,
   "metadata": {},
   "outputs": [],
   "source": [
    "# Define input for single article\n",
    "inputs = tokenizer(\n",
    "    article_text, \n",
    "    return_tensors='pt', \n",
    "    truncation=True, \n",
    "    max_length=512, \n",
    "    padding='max_length'\n",
    ")"
   ]
  },
  {
   "cell_type": "code",
   "execution_count": 6,
   "metadata": {},
   "outputs": [],
   "source": [
    "# Run classification\n",
    "with torch.no_grad():\n",
    "    outputs = model(**inputs)\n",
    "    logits = outputs.logits\n",
    "    probabilities = torch.softmax(logits, dim=1).squeeze()"
   ]
  },
  {
   "cell_type": "code",
   "execution_count": 7,
   "metadata": {},
   "outputs": [
    {
     "name": "stdout",
     "output_type": "stream",
     "text": [
      "Predicted sentiment: positive\n"
     ]
    }
   ],
   "source": [
    "# Map labels and pick one with highest probability\n",
    "label_mapping = {0: \"negative\", 1: \"neutral\", 2: \"positive\"}\n",
    "predicted_label = label_mapping[probabilities.argmax().item()]\n",
    "print(\"Predicted sentiment:\", predicted_label)"
   ]
  },
  {
   "cell_type": "code",
   "execution_count": 8,
   "metadata": {},
   "outputs": [
    {
     "data": {
      "text/plain": [
       "tensor([0.0751, 0.0173, 0.9076])"
      ]
     },
     "execution_count": 8,
     "metadata": {},
     "output_type": "execute_result"
    }
   ],
   "source": [
    "# Check FinBERT output probabilities\n",
    "probabilities"
   ]
  },
  {
   "cell_type": "code",
   "execution_count": 9,
   "metadata": {},
   "outputs": [
    {
     "name": "stderr",
     "output_type": "stream",
     "text": [
      "C:\\Users\\Chris\\AppData\\Local\\Temp\\ipykernel_13932\\1085108132.py:2: DtypeWarning: Columns (6,8,9,10,11,12) have mixed types. Specify dtype option on import or set low_memory=False.\n",
      "  news_df = pd.read_csv('sp100_news_2018_2023.csv')\n"
     ]
    }
   ],
   "source": [
    "# load data\n",
    "news_df = pd.read_csv('sp100_news_2018_2023.csv')"
   ]
  },
  {
   "cell_type": "code",
   "execution_count": 10,
   "metadata": {},
   "outputs": [],
   "source": [
    "# reduce df to only necessary columns\n",
    "news_df = news_df[['Date', 'Article_title', 'Stock_symbol', 'Article']]"
   ]
  },
  {
   "cell_type": "code",
   "execution_count": 11,
   "metadata": {},
   "outputs": [
    {
     "data": {
      "text/html": [
       "<div>\n",
       "<style scoped>\n",
       "    .dataframe tbody tr th:only-of-type {\n",
       "        vertical-align: middle;\n",
       "    }\n",
       "\n",
       "    .dataframe tbody tr th {\n",
       "        vertical-align: top;\n",
       "    }\n",
       "\n",
       "    .dataframe thead th {\n",
       "        text-align: right;\n",
       "    }\n",
       "</style>\n",
       "<table border=\"1\" class=\"dataframe\">\n",
       "  <thead>\n",
       "    <tr style=\"text-align: right;\">\n",
       "      <th></th>\n",
       "      <th>Date</th>\n",
       "      <th>Article_title</th>\n",
       "      <th>Stock_symbol</th>\n",
       "      <th>Article</th>\n",
       "    </tr>\n",
       "  </thead>\n",
       "  <tbody>\n",
       "    <tr>\n",
       "      <th>0</th>\n",
       "      <td>2023-12-16 22:00:00</td>\n",
       "      <td>My 6 Largest Portfolio Holdings Heading Into 2...</td>\n",
       "      <td>AAPL</td>\n",
       "      <td>After an absolute disaster of a year in 2022, ...</td>\n",
       "    </tr>\n",
       "    <tr>\n",
       "      <th>1</th>\n",
       "      <td>2023-12-16 22:00:00</td>\n",
       "      <td>Brokers Suggest Investing in Apple (AAPL): Rea...</td>\n",
       "      <td>AAPL</td>\n",
       "      <td>When deciding whether to buy, sell, or hold a ...</td>\n",
       "    </tr>\n",
       "    <tr>\n",
       "      <th>2</th>\n",
       "      <td>2023-12-16 21:00:00</td>\n",
       "      <td>Company News for Dec 19, 2023</td>\n",
       "      <td>AAPL</td>\n",
       "      <td>Shares of Apple Inc. AAPL lost 0.9% on China’s...</td>\n",
       "    </tr>\n",
       "    <tr>\n",
       "      <th>3</th>\n",
       "      <td>2023-12-16 21:00:00</td>\n",
       "      <td>NVIDIA (NVDA) Up 243% YTD: Will It Carry Momen...</td>\n",
       "      <td>AAPL</td>\n",
       "      <td>NVIDIA Corporation NVDA has witnessed a remark...</td>\n",
       "    </tr>\n",
       "    <tr>\n",
       "      <th>4</th>\n",
       "      <td>2023-12-16 21:00:00</td>\n",
       "      <td>Pre-Market Most Active for Dec 19, 2023 : BMY,...</td>\n",
       "      <td>AAPL</td>\n",
       "      <td>The NASDAQ 100 Pre-Market Indicator is up 10.1...</td>\n",
       "    </tr>\n",
       "  </tbody>\n",
       "</table>\n",
       "</div>"
      ],
      "text/plain": [
       "                  Date                                      Article_title  \\\n",
       "0  2023-12-16 22:00:00  My 6 Largest Portfolio Holdings Heading Into 2...   \n",
       "1  2023-12-16 22:00:00  Brokers Suggest Investing in Apple (AAPL): Rea...   \n",
       "2  2023-12-16 21:00:00                      Company News for Dec 19, 2023   \n",
       "3  2023-12-16 21:00:00  NVIDIA (NVDA) Up 243% YTD: Will It Carry Momen...   \n",
       "4  2023-12-16 21:00:00  Pre-Market Most Active for Dec 19, 2023 : BMY,...   \n",
       "\n",
       "  Stock_symbol                                            Article  \n",
       "0         AAPL  After an absolute disaster of a year in 2022, ...  \n",
       "1         AAPL  When deciding whether to buy, sell, or hold a ...  \n",
       "2         AAPL  Shares of Apple Inc. AAPL lost 0.9% on China’s...  \n",
       "3         AAPL  NVIDIA Corporation NVDA has witnessed a remark...  \n",
       "4         AAPL  The NASDAQ 100 Pre-Market Indicator is up 10.1...  "
      ]
     },
     "execution_count": 11,
     "metadata": {},
     "output_type": "execute_result"
    }
   ],
   "source": [
    "# check\n",
    "news_df.head()"
   ]
  },
  {
   "cell_type": "code",
   "execution_count": 12,
   "metadata": {},
   "outputs": [
    {
     "data": {
      "text/plain": [
       "(332788, 4)"
      ]
     },
     "execution_count": 12,
     "metadata": {},
     "output_type": "execute_result"
    }
   ],
   "source": [
    "# confirm shape\n",
    "news_df.shape"
   ]
  },
  {
   "cell_type": "code",
   "execution_count": null,
   "metadata": {},
   "outputs": [],
   "source": [
    "# Create a sentiment pipeline on GPU (device=0)\n",
    "sentiment_pipeline = pipeline(\n",
    "    \"sentiment-analysis\",\n",
    "    model=model,\n",
    "    tokenizer=tokenizer,\n",
    "    device=0,         # Use GPU\n",
    "    batch_size=64,\n",
    "    truncation=True     \n",
    ")"
   ]
  },
  {
   "cell_type": "code",
   "execution_count": 15,
   "metadata": {},
   "outputs": [],
   "source": [
    "# Ensure the 'Article' column is clean and valid\n",
    "news_df[\"Article\"] = news_df[\"Article\"].fillna(\"\").astype(str)\n",
    "\n",
    "# Convert to Hugging Face Dataset\n",
    "hf_dataset = Dataset.from_pandas(news_df)"
   ]
  },
  {
   "cell_type": "code",
   "execution_count": 20,
   "metadata": {},
   "outputs": [
    {
     "name": "stderr",
     "output_type": "stream",
     "text": [
      "Map:   0%|          | 0/332788 [00:00<?, ? examples/s]c:\\Users\\Chris\\anaconda3\\envs\\p310\\lib\\site-packages\\transformers\\models\\bert\\modeling_bert.py:440: UserWarning: 1Torch was not compiled with flash attention. (Triggered internally at C:\\cb\\pytorch_1000000000000\\work\\aten\\src\\ATen\\native\\transformers\\cuda\\sdp_utils.cpp:455.)\n",
      "  attn_output = torch.nn.functional.scaled_dot_product_attention(\n",
      "Map:   0%|          | 640/332788 [00:03<27:01, 204.88 examples/s]You seem to be using the pipelines sequentially on GPU. In order to maximize efficiency please use a dataset\n",
      "                                                                     \r"
     ]
    }
   ],
   "source": [
    "# Function to process batches\n",
    "def analyze_batch(batch):\n",
    "    # Ensure all inputs are strings and truncate to 512 tokens\n",
    "    texts = [str(text) for text in batch[\"Article\"]]\n",
    "    results = sentiment_pipeline(texts)\n",
    "    batch[\"Sentiment_label\"] = [res[\"label\"] for res in results]\n",
    "    batch[\"Sentiment_score\"] = [res[\"score\"] for res in results]\n",
    "    return batch\n",
    "\n",
    "# Apply the function to the dataset in batches\n",
    "processed_dataset = hf_dataset.map(analyze_batch, batched=True, batch_size=64)\n",
    "\n",
    "# Convert back to pandas DataFrame\n",
    "processed_df = processed_dataset.to_pandas()\n",
    "\n",
    "# Save the enriched DataFrame\n",
    "processed_df.to_csv(\"news_with_sentiment.csv\", index=False)"
   ]
  },
  {
   "cell_type": "code",
   "execution_count": 21,
   "metadata": {},
   "outputs": [
    {
     "name": "stderr",
     "output_type": "stream",
     "text": [
      "C:\\Users\\Chris\\AppData\\Local\\Temp\\ipykernel_13932\\2955350042.py:1: DtypeWarning: Columns (3) have mixed types. Specify dtype option on import or set low_memory=False.\n",
      "  check_sent_df = pd.read_csv(\"news_with_sentiment.csv\")\n"
     ]
    }
   ],
   "source": [
    "check_sent_df = pd.read_csv(\"news_with_sentiment.csv\")"
   ]
  },
  {
   "cell_type": "code",
   "execution_count": 22,
   "metadata": {},
   "outputs": [
    {
     "data": {
      "text/html": [
       "<div>\n",
       "<style scoped>\n",
       "    .dataframe tbody tr th:only-of-type {\n",
       "        vertical-align: middle;\n",
       "    }\n",
       "\n",
       "    .dataframe tbody tr th {\n",
       "        vertical-align: top;\n",
       "    }\n",
       "\n",
       "    .dataframe thead th {\n",
       "        text-align: right;\n",
       "    }\n",
       "</style>\n",
       "<table border=\"1\" class=\"dataframe\">\n",
       "  <thead>\n",
       "    <tr style=\"text-align: right;\">\n",
       "      <th></th>\n",
       "      <th>Date</th>\n",
       "      <th>Article_title</th>\n",
       "      <th>Stock_symbol</th>\n",
       "      <th>Article</th>\n",
       "      <th>Sentiment_label</th>\n",
       "      <th>Sentiment_score</th>\n",
       "    </tr>\n",
       "  </thead>\n",
       "  <tbody>\n",
       "    <tr>\n",
       "      <th>0</th>\n",
       "      <td>2023-12-16 22:00:00</td>\n",
       "      <td>My 6 Largest Portfolio Holdings Heading Into 2...</td>\n",
       "      <td>AAPL</td>\n",
       "      <td>After an absolute disaster of a year in 2022, ...</td>\n",
       "      <td>neutral</td>\n",
       "      <td>0.822993</td>\n",
       "    </tr>\n",
       "    <tr>\n",
       "      <th>1</th>\n",
       "      <td>2023-12-16 22:00:00</td>\n",
       "      <td>Brokers Suggest Investing in Apple (AAPL): Rea...</td>\n",
       "      <td>AAPL</td>\n",
       "      <td>When deciding whether to buy, sell, or hold a ...</td>\n",
       "      <td>neutral</td>\n",
       "      <td>0.902589</td>\n",
       "    </tr>\n",
       "    <tr>\n",
       "      <th>2</th>\n",
       "      <td>2023-12-16 21:00:00</td>\n",
       "      <td>Company News for Dec 19, 2023</td>\n",
       "      <td>AAPL</td>\n",
       "      <td>Shares of Apple Inc. AAPL lost 0.9% on China’s...</td>\n",
       "      <td>neutral</td>\n",
       "      <td>0.550500</td>\n",
       "    </tr>\n",
       "    <tr>\n",
       "      <th>3</th>\n",
       "      <td>2023-12-16 21:00:00</td>\n",
       "      <td>NVIDIA (NVDA) Up 243% YTD: Will It Carry Momen...</td>\n",
       "      <td>AAPL</td>\n",
       "      <td>NVIDIA Corporation NVDA has witnessed a remark...</td>\n",
       "      <td>positive</td>\n",
       "      <td>0.889521</td>\n",
       "    </tr>\n",
       "    <tr>\n",
       "      <th>4</th>\n",
       "      <td>2023-12-16 21:00:00</td>\n",
       "      <td>Pre-Market Most Active for Dec 19, 2023 : BMY,...</td>\n",
       "      <td>AAPL</td>\n",
       "      <td>The NASDAQ 100 Pre-Market Indicator is up 10.1...</td>\n",
       "      <td>neutral</td>\n",
       "      <td>0.875821</td>\n",
       "    </tr>\n",
       "    <tr>\n",
       "      <th>5</th>\n",
       "      <td>2023-12-16 20:00:00</td>\n",
       "      <td>3 Artificial Intelligence (AI) Stocks for 2024...</td>\n",
       "      <td>AAPL</td>\n",
       "      <td>What was the top financial story of 2023? It h...</td>\n",
       "      <td>positive</td>\n",
       "      <td>0.944678</td>\n",
       "    </tr>\n",
       "    <tr>\n",
       "      <th>6</th>\n",
       "      <td>2023-12-16 20:00:00</td>\n",
       "      <td>AAPL Quantitative Stock Analysis</td>\n",
       "      <td>AAPL</td>\n",
       "      <td>Below is Validea's guru fundamental report for...</td>\n",
       "      <td>neutral</td>\n",
       "      <td>0.874864</td>\n",
       "    </tr>\n",
       "    <tr>\n",
       "      <th>7</th>\n",
       "      <td>2023-12-16 18:00:00</td>\n",
       "      <td>Should Vanguard S&amp;P 500 ETF (VOO) Be on Your I...</td>\n",
       "      <td>AAPL</td>\n",
       "      <td>If you're interested in broad exposure to the ...</td>\n",
       "      <td>neutral</td>\n",
       "      <td>0.765141</td>\n",
       "    </tr>\n",
       "    <tr>\n",
       "      <th>8</th>\n",
       "      <td>2023-12-16 18:00:00</td>\n",
       "      <td>Is FlexShares Quality Dividend ETF (QDF) a Str...</td>\n",
       "      <td>AAPL</td>\n",
       "      <td>Launched on 12/14/2012, the FlexShares Quality...</td>\n",
       "      <td>neutral</td>\n",
       "      <td>0.820340</td>\n",
       "    </tr>\n",
       "    <tr>\n",
       "      <th>9</th>\n",
       "      <td>2023-12-16 18:00:00</td>\n",
       "      <td>Is FlexShares STOXX US ESG Select Index Fund (...</td>\n",
       "      <td>AAPL</td>\n",
       "      <td>Making its debut on 07/13/2016, smart beta exc...</td>\n",
       "      <td>neutral</td>\n",
       "      <td>0.855043</td>\n",
       "    </tr>\n",
       "    <tr>\n",
       "      <th>10</th>\n",
       "      <td>2023-12-16 18:00:00</td>\n",
       "      <td>Wall St futures inch up as investors pin hopes...</td>\n",
       "      <td>AAPL</td>\n",
       "      <td>For a Reuters live blog on U.S., UK and Europe...</td>\n",
       "      <td>positive</td>\n",
       "      <td>0.843585</td>\n",
       "    </tr>\n",
       "    <tr>\n",
       "      <th>11</th>\n",
       "      <td>2023-12-16 18:00:00</td>\n",
       "      <td>49.1% of Warren Buffett's $373 Billion Portfol...</td>\n",
       "      <td>AAPL</td>\n",
       "      <td>Warren Buffett has led the Berkshire Hathaway ...</td>\n",
       "      <td>neutral</td>\n",
       "      <td>0.898789</td>\n",
       "    </tr>\n",
       "    <tr>\n",
       "      <th>12</th>\n",
       "      <td>2023-12-16 17:00:00</td>\n",
       "      <td>2 Top Warren Buffett Stocks to Buy Right Now</td>\n",
       "      <td>AAPL</td>\n",
       "      <td>Warren Buffett is considered among the greates...</td>\n",
       "      <td>neutral</td>\n",
       "      <td>0.858573</td>\n",
       "    </tr>\n",
       "    <tr>\n",
       "      <th>13</th>\n",
       "      <td>2023-12-16 15:00:00</td>\n",
       "      <td>TSMC to promote from within after chairman ret...</td>\n",
       "      <td>AAPL</td>\n",
       "      <td>Adds details and quotes from paragraph 2\\nTAIP...</td>\n",
       "      <td>neutral</td>\n",
       "      <td>0.930655</td>\n",
       "    </tr>\n",
       "    <tr>\n",
       "      <th>14</th>\n",
       "      <td>2023-12-16 04:00:00</td>\n",
       "      <td>US STOCKS-Wall Street ends higher, extending r...</td>\n",
       "      <td>AAPL</td>\n",
       "      <td>By Stephen Culp\\nNEW YORK, Dec 18 (Reuters) - ...</td>\n",
       "      <td>negative</td>\n",
       "      <td>0.814601</td>\n",
       "    </tr>\n",
       "    <tr>\n",
       "      <th>15</th>\n",
       "      <td>2023-12-16 04:00:00</td>\n",
       "      <td>After Hours Most Active for Dec 18, 2023 : PAC...</td>\n",
       "      <td>AAPL</td>\n",
       "      <td>The NASDAQ 100 After Hours Indicator is down -...</td>\n",
       "      <td>neutral</td>\n",
       "      <td>0.579035</td>\n",
       "    </tr>\n",
       "    <tr>\n",
       "      <th>16</th>\n",
       "      <td>2023-12-16 04:00:00</td>\n",
       "      <td>Technology Sector Update for 12/18/2023: PCT, ...</td>\n",
       "      <td>AAPL</td>\n",
       "      <td>Tech stocks were mixed late Monday afternoon, ...</td>\n",
       "      <td>negative</td>\n",
       "      <td>0.967861</td>\n",
       "    </tr>\n",
       "    <tr>\n",
       "      <th>17</th>\n",
       "      <td>2023-12-16 04:00:00</td>\n",
       "      <td>Wall Street ends higher, extending rate-cut rally</td>\n",
       "      <td>AAPL</td>\n",
       "      <td>By Stephen Culp\\nNEW YORK, Dec 18 (Reuters) - ...</td>\n",
       "      <td>negative</td>\n",
       "      <td>0.814601</td>\n",
       "    </tr>\n",
       "    <tr>\n",
       "      <th>18</th>\n",
       "      <td>2023-12-16 04:00:00</td>\n",
       "      <td>Apple To Halt Sale Of Watch Series 9 And Ultra 2</td>\n",
       "      <td>AAPL</td>\n",
       "      <td>(RTTNews) - Tech giant Apple Inc. (AAPL) has a...</td>\n",
       "      <td>neutral</td>\n",
       "      <td>0.577729</td>\n",
       "    </tr>\n",
       "    <tr>\n",
       "      <th>19</th>\n",
       "      <td>2023-12-16 02:00:00</td>\n",
       "      <td>US STOCKS-Wall St builds on rally as Fed eupho...</td>\n",
       "      <td>AAPL</td>\n",
       "      <td>By Stephen Culp\\nNEW YORK, Dec 18 (Reuters) - ...</td>\n",
       "      <td>negative</td>\n",
       "      <td>0.562281</td>\n",
       "    </tr>\n",
       "  </tbody>\n",
       "</table>\n",
       "</div>"
      ],
      "text/plain": [
       "                   Date                                      Article_title  \\\n",
       "0   2023-12-16 22:00:00  My 6 Largest Portfolio Holdings Heading Into 2...   \n",
       "1   2023-12-16 22:00:00  Brokers Suggest Investing in Apple (AAPL): Rea...   \n",
       "2   2023-12-16 21:00:00                      Company News for Dec 19, 2023   \n",
       "3   2023-12-16 21:00:00  NVIDIA (NVDA) Up 243% YTD: Will It Carry Momen...   \n",
       "4   2023-12-16 21:00:00  Pre-Market Most Active for Dec 19, 2023 : BMY,...   \n",
       "5   2023-12-16 20:00:00  3 Artificial Intelligence (AI) Stocks for 2024...   \n",
       "6   2023-12-16 20:00:00                   AAPL Quantitative Stock Analysis   \n",
       "7   2023-12-16 18:00:00  Should Vanguard S&P 500 ETF (VOO) Be on Your I...   \n",
       "8   2023-12-16 18:00:00  Is FlexShares Quality Dividend ETF (QDF) a Str...   \n",
       "9   2023-12-16 18:00:00  Is FlexShares STOXX US ESG Select Index Fund (...   \n",
       "10  2023-12-16 18:00:00  Wall St futures inch up as investors pin hopes...   \n",
       "11  2023-12-16 18:00:00  49.1% of Warren Buffett's $373 Billion Portfol...   \n",
       "12  2023-12-16 17:00:00       2 Top Warren Buffett Stocks to Buy Right Now   \n",
       "13  2023-12-16 15:00:00  TSMC to promote from within after chairman ret...   \n",
       "14  2023-12-16 04:00:00  US STOCKS-Wall Street ends higher, extending r...   \n",
       "15  2023-12-16 04:00:00  After Hours Most Active for Dec 18, 2023 : PAC...   \n",
       "16  2023-12-16 04:00:00  Technology Sector Update for 12/18/2023: PCT, ...   \n",
       "17  2023-12-16 04:00:00  Wall Street ends higher, extending rate-cut rally   \n",
       "18  2023-12-16 04:00:00   Apple To Halt Sale Of Watch Series 9 And Ultra 2   \n",
       "19  2023-12-16 02:00:00  US STOCKS-Wall St builds on rally as Fed eupho...   \n",
       "\n",
       "   Stock_symbol                                            Article  \\\n",
       "0          AAPL  After an absolute disaster of a year in 2022, ...   \n",
       "1          AAPL  When deciding whether to buy, sell, or hold a ...   \n",
       "2          AAPL  Shares of Apple Inc. AAPL lost 0.9% on China’s...   \n",
       "3          AAPL  NVIDIA Corporation NVDA has witnessed a remark...   \n",
       "4          AAPL  The NASDAQ 100 Pre-Market Indicator is up 10.1...   \n",
       "5          AAPL  What was the top financial story of 2023? It h...   \n",
       "6          AAPL  Below is Validea's guru fundamental report for...   \n",
       "7          AAPL  If you're interested in broad exposure to the ...   \n",
       "8          AAPL  Launched on 12/14/2012, the FlexShares Quality...   \n",
       "9          AAPL  Making its debut on 07/13/2016, smart beta exc...   \n",
       "10         AAPL  For a Reuters live blog on U.S., UK and Europe...   \n",
       "11         AAPL  Warren Buffett has led the Berkshire Hathaway ...   \n",
       "12         AAPL  Warren Buffett is considered among the greates...   \n",
       "13         AAPL  Adds details and quotes from paragraph 2\\nTAIP...   \n",
       "14         AAPL  By Stephen Culp\\nNEW YORK, Dec 18 (Reuters) - ...   \n",
       "15         AAPL  The NASDAQ 100 After Hours Indicator is down -...   \n",
       "16         AAPL  Tech stocks were mixed late Monday afternoon, ...   \n",
       "17         AAPL  By Stephen Culp\\nNEW YORK, Dec 18 (Reuters) - ...   \n",
       "18         AAPL  (RTTNews) - Tech giant Apple Inc. (AAPL) has a...   \n",
       "19         AAPL  By Stephen Culp\\nNEW YORK, Dec 18 (Reuters) - ...   \n",
       "\n",
       "   Sentiment_label  Sentiment_score  \n",
       "0          neutral         0.822993  \n",
       "1          neutral         0.902589  \n",
       "2          neutral         0.550500  \n",
       "3         positive         0.889521  \n",
       "4          neutral         0.875821  \n",
       "5         positive         0.944678  \n",
       "6          neutral         0.874864  \n",
       "7          neutral         0.765141  \n",
       "8          neutral         0.820340  \n",
       "9          neutral         0.855043  \n",
       "10        positive         0.843585  \n",
       "11         neutral         0.898789  \n",
       "12         neutral         0.858573  \n",
       "13         neutral         0.930655  \n",
       "14        negative         0.814601  \n",
       "15         neutral         0.579035  \n",
       "16        negative         0.967861  \n",
       "17        negative         0.814601  \n",
       "18         neutral         0.577729  \n",
       "19        negative         0.562281  "
      ]
     },
     "execution_count": 22,
     "metadata": {},
     "output_type": "execute_result"
    }
   ],
   "source": [
    "check_sent_df.head(20)"
   ]
  },
  {
   "cell_type": "code",
   "execution_count": 24,
   "metadata": {},
   "outputs": [
    {
     "data": {
      "text/plain": [
       "count      332788\n",
       "unique          3\n",
       "top       neutral\n",
       "freq       178912\n",
       "Name: Sentiment_label, dtype: object"
      ]
     },
     "execution_count": 24,
     "metadata": {},
     "output_type": "execute_result"
    }
   ],
   "source": [
    "check_sent_df['Sentiment_label'].describe()"
   ]
  }
 ],
 "metadata": {
  "kernelspec": {
   "display_name": "p310",
   "language": "python",
   "name": "python3"
  },
  "language_info": {
   "codemirror_mode": {
    "name": "ipython",
    "version": 3
   },
   "file_extension": ".py",
   "mimetype": "text/x-python",
   "name": "python",
   "nbconvert_exporter": "python",
   "pygments_lexer": "ipython3",
   "version": "3.10.8"
  }
 },
 "nbformat": 4,
 "nbformat_minor": 2
}
